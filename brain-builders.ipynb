{
 "cells": [
  {
   "cell_type": "code",
   "execution_count": 8,
   "metadata": {
    "_cell_guid": "b1076dfc-b9ad-4769-8c92-a6c4dae69d19",
    "_uuid": "8f2839f25d086af736a60e9eeb907d3b93b6e0e5",
    "execution": {
     "iopub.execute_input": "2025-02-22T09:56:22.640302Z",
     "iopub.status.busy": "2025-02-22T09:56:22.639977Z",
     "iopub.status.idle": "2025-02-22T09:56:22.645150Z",
     "shell.execute_reply": "2025-02-22T09:56:22.643429Z",
     "shell.execute_reply.started": "2025-02-22T09:56:22.640276Z"
    },
    "trusted": true
   },
   "outputs": [],
   "source": [
    "# imports\n",
    "import pandas as pd"
   ]
  },
  {
   "cell_type": "code",
   "execution_count": 9,
   "metadata": {
    "execution": {
     "iopub.execute_input": "2025-02-22T09:56:22.647064Z",
     "iopub.status.busy": "2025-02-22T09:56:22.646553Z",
     "iopub.status.idle": "2025-02-22T09:56:22.677223Z",
     "shell.execute_reply": "2025-02-22T09:56:22.676147Z",
     "shell.execute_reply.started": "2025-02-22T09:56:22.647017Z"
    },
    "trusted": true
   },
   "outputs": [
    {
     "data": {
      "text/html": [
       "<div>\n",
       "<style scoped>\n",
       "    .dataframe tbody tr th:only-of-type {\n",
       "        vertical-align: middle;\n",
       "    }\n",
       "\n",
       "    .dataframe tbody tr th {\n",
       "        vertical-align: top;\n",
       "    }\n",
       "\n",
       "    .dataframe thead th {\n",
       "        text-align: right;\n",
       "    }\n",
       "</style>\n",
       "<table border=\"1\" class=\"dataframe\">\n",
       "  <thead>\n",
       "    <tr style=\"text-align: right;\">\n",
       "      <th></th>\n",
       "      <th>STATE</th>\n",
       "      <th>month</th>\n",
       "      <th>total_fire_size</th>\n",
       "    </tr>\n",
       "  </thead>\n",
       "  <tbody>\n",
       "    <tr>\n",
       "      <th>0</th>\n",
       "      <td>AK</td>\n",
       "      <td>1992-04</td>\n",
       "      <td>10.1</td>\n",
       "    </tr>\n",
       "    <tr>\n",
       "      <th>1</th>\n",
       "      <td>AK</td>\n",
       "      <td>1992-05</td>\n",
       "      <td>4309.5</td>\n",
       "    </tr>\n",
       "    <tr>\n",
       "      <th>2</th>\n",
       "      <td>AK</td>\n",
       "      <td>1992-06</td>\n",
       "      <td>86460.6</td>\n",
       "    </tr>\n",
       "    <tr>\n",
       "      <th>3</th>\n",
       "      <td>AK</td>\n",
       "      <td>1992-07</td>\n",
       "      <td>48578.5</td>\n",
       "    </tr>\n",
       "    <tr>\n",
       "      <th>4</th>\n",
       "      <td>AK</td>\n",
       "      <td>1992-08</td>\n",
       "      <td>3321.8</td>\n",
       "    </tr>\n",
       "  </tbody>\n",
       "</table>\n",
       "</div>"
      ],
      "text/plain": [
       "  STATE    month  total_fire_size\n",
       "0    AK  1992-04             10.1\n",
       "1    AK  1992-05           4309.5\n",
       "2    AK  1992-06          86460.6\n",
       "3    AK  1992-07          48578.5\n",
       "4    AK  1992-08           3321.8"
      ]
     },
     "execution_count": 9,
     "metadata": {},
     "output_type": "execute_result"
    }
   ],
   "source": [
    "# load the training data\n",
    "#df = pd.read_csv(\"/kaggle/input/forest-fire-prediction-epoch-hackathon/wildfire_sizes_before_2010.csv\")\n",
    "df = pd.read_csv(\"data/wildfire_sizes_before_2010.csv\")\n",
    "\n",
    "# print a few datapoints\n",
    "df.head()"
   ]
  },
  {
   "cell_type": "code",
   "execution_count": 10,
   "metadata": {
    "execution": {
     "iopub.execute_input": "2025-02-22T09:56:22.679410Z",
     "iopub.status.busy": "2025-02-22T09:56:22.679131Z",
     "iopub.status.idle": "2025-02-22T09:56:22.693965Z",
     "shell.execute_reply": "2025-02-22T09:56:22.692711Z",
     "shell.execute_reply.started": "2025-02-22T09:56:22.679386Z"
    },
    "trusted": true
   },
   "outputs": [
    {
     "data": {
      "text/html": [
       "<div>\n",
       "<style scoped>\n",
       "    .dataframe tbody tr th:only-of-type {\n",
       "        vertical-align: middle;\n",
       "    }\n",
       "\n",
       "    .dataframe tbody tr th {\n",
       "        vertical-align: top;\n",
       "    }\n",
       "\n",
       "    .dataframe thead th {\n",
       "        text-align: right;\n",
       "    }\n",
       "</style>\n",
       "<table border=\"1\" class=\"dataframe\">\n",
       "  <thead>\n",
       "    <tr style=\"text-align: right;\">\n",
       "      <th></th>\n",
       "      <th>STATE</th>\n",
       "      <th>month</th>\n",
       "      <th>total_fire_size</th>\n",
       "    </tr>\n",
       "  </thead>\n",
       "  <tbody>\n",
       "    <tr>\n",
       "      <th>148</th>\n",
       "      <td>AK</td>\n",
       "      <td>2010-03</td>\n",
       "      <td>0.50</td>\n",
       "    </tr>\n",
       "    <tr>\n",
       "      <th>149</th>\n",
       "      <td>AK</td>\n",
       "      <td>2010-04</td>\n",
       "      <td>1558.97</td>\n",
       "    </tr>\n",
       "    <tr>\n",
       "      <th>150</th>\n",
       "      <td>AK</td>\n",
       "      <td>2010-05</td>\n",
       "      <td>608126.40</td>\n",
       "    </tr>\n",
       "    <tr>\n",
       "      <th>151</th>\n",
       "      <td>AK</td>\n",
       "      <td>2010-06</td>\n",
       "      <td>316987.85</td>\n",
       "    </tr>\n",
       "    <tr>\n",
       "      <th>152</th>\n",
       "      <td>AK</td>\n",
       "      <td>2010-07</td>\n",
       "      <td>206614.55</td>\n",
       "    </tr>\n",
       "  </tbody>\n",
       "</table>\n",
       "</div>"
      ],
      "text/plain": [
       "    STATE    month  total_fire_size\n",
       "148    AK  2010-03             0.50\n",
       "149    AK  2010-04          1558.97\n",
       "150    AK  2010-05        608126.40\n",
       "151    AK  2010-06        316987.85\n",
       "152    AK  2010-07        206614.55"
      ]
     },
     "execution_count": 10,
     "metadata": {},
     "output_type": "execute_result"
    }
   ],
   "source": [
    "# get the predictions for 2010\n",
    "last_year = df[df['month'].str[:4] == '2010']\n",
    "\n",
    "last_year.head()"
   ]
  },
  {
   "cell_type": "code",
   "execution_count": 11,
   "metadata": {
    "execution": {
     "iopub.execute_input": "2025-02-22T09:56:22.695337Z",
     "iopub.status.busy": "2025-02-22T09:56:22.695062Z",
     "iopub.status.idle": "2025-02-22T09:56:22.730229Z",
     "shell.execute_reply": "2025-02-22T09:56:22.729154Z",
     "shell.execute_reply.started": "2025-02-22T09:56:22.695315Z"
    },
    "trusted": true
   },
   "outputs": [
    {
     "data": {
      "text/html": [
       "<div>\n",
       "<style scoped>\n",
       "    .dataframe tbody tr th:only-of-type {\n",
       "        vertical-align: middle;\n",
       "    }\n",
       "\n",
       "    .dataframe tbody tr th {\n",
       "        vertical-align: top;\n",
       "    }\n",
       "\n",
       "    .dataframe thead th {\n",
       "        text-align: right;\n",
       "    }\n",
       "</style>\n",
       "<table border=\"1\" class=\"dataframe\">\n",
       "  <thead>\n",
       "    <tr style=\"text-align: right;\">\n",
       "      <th></th>\n",
       "      <th>ID</th>\n",
       "      <th>STATE</th>\n",
       "      <th>month</th>\n",
       "      <th>total_fire_size</th>\n",
       "    </tr>\n",
       "  </thead>\n",
       "  <tbody>\n",
       "    <tr>\n",
       "      <th>148</th>\n",
       "      <td>0</td>\n",
       "      <td>AK</td>\n",
       "      <td>2011-03</td>\n",
       "      <td>0.50</td>\n",
       "    </tr>\n",
       "    <tr>\n",
       "      <th>149</th>\n",
       "      <td>1</td>\n",
       "      <td>AK</td>\n",
       "      <td>2011-04</td>\n",
       "      <td>1558.97</td>\n",
       "    </tr>\n",
       "    <tr>\n",
       "      <th>150</th>\n",
       "      <td>2</td>\n",
       "      <td>AK</td>\n",
       "      <td>2011-05</td>\n",
       "      <td>608126.40</td>\n",
       "    </tr>\n",
       "    <tr>\n",
       "      <th>151</th>\n",
       "      <td>3</td>\n",
       "      <td>AK</td>\n",
       "      <td>2011-06</td>\n",
       "      <td>316987.85</td>\n",
       "    </tr>\n",
       "    <tr>\n",
       "      <th>152</th>\n",
       "      <td>4</td>\n",
       "      <td>AK</td>\n",
       "      <td>2011-07</td>\n",
       "      <td>206614.55</td>\n",
       "    </tr>\n",
       "  </tbody>\n",
       "</table>\n",
       "</div>"
      ],
      "text/plain": [
       "     ID STATE    month  total_fire_size\n",
       "148   0    AK  2011-03             0.50\n",
       "149   1    AK  2011-04          1558.97\n",
       "150   2    AK  2011-05        608126.40\n",
       "151   3    AK  2011-06        316987.85\n",
       "152   4    AK  2011-07        206614.55"
      ]
     },
     "execution_count": 11,
     "metadata": {},
     "output_type": "execute_result"
    }
   ],
   "source": [
    "# duplicate the 2010 predictions for 2011 through 2015\n",
    "dfs = []\n",
    "for year in range(2011, 2016):\n",
    "    new_df = last_year.copy()\n",
    "    new_df['month'] = new_df['month'].str.replace('2010', str(year))\n",
    "    dfs.append(new_df)\n",
    "submission = pd.concat(dfs)\n",
    "\n",
    "\n",
    "# add ID column that kaggle wants (order does not matter though, items are match by (STATE, month) pair)\n",
    "submission['ID'] = range(len(submission))\n",
    "\n",
    "# order columns\n",
    "submission = submission[['ID', 'STATE', 'month', 'total_fire_size']]\n",
    "submission.to_csv('submission.csv', index=False)\n",
    "\n",
    "submission.head()"
   ]
  },
  {
   "cell_type": "code",
   "execution_count": null,
   "metadata": {
    "trusted": true
   },
   "outputs": [],
   "source": []
  }
 ],
 "metadata": {
  "kaggle": {
   "accelerator": "none",
   "dataSources": [
    {
     "databundleVersionId": 11174958,
     "sourceId": 93872,
     "sourceType": "competition"
    }
   ],
   "dockerImageVersionId": 30918,
   "isGpuEnabled": false,
   "isInternetEnabled": false,
   "language": "python",
   "sourceType": "notebook"
  },
  "kernelspec": {
   "display_name": "venv",
   "language": "python",
   "name": "python3"
  },
  "language_info": {
   "codemirror_mode": {
    "name": "ipython",
    "version": 3
   },
   "file_extension": ".py",
   "mimetype": "text/x-python",
   "name": "python",
   "nbconvert_exporter": "python",
   "pygments_lexer": "ipython3",
   "version": "3.12.8"
  }
 },
 "nbformat": 4,
 "nbformat_minor": 4
}
